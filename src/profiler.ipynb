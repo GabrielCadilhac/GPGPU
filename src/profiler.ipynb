{
 "cells": [
  {
   "cell_type": "code",
   "execution_count": 1,
   "metadata": {},
   "outputs": [],
   "source": [
    "import os\n",
    "import csv\n",
    "import matplotlib.pyplot as plt"
   ]
  },
  {
   "cell_type": "code",
   "execution_count": 2,
   "metadata": {},
   "outputs": [
    {
     "data": {
      "text/plain": [
       "0"
      ]
     },
     "execution_count": 2,
     "metadata": {},
     "output_type": "execute_result"
    }
   ],
   "source": [
    "os.system(\"nvprof --csv --print-gpu-trace --log-file profile ./main.exe\")"
   ]
  },
  {
   "cell_type": "code",
   "execution_count": 2,
   "metadata": {},
   "outputs": [],
   "source": [
    "def findDuration():\n",
    "    with open(\"profile\", newline=\"\") as csvfile:\n",
    "        reader = csv.reader(csvfile, delimiter=\",\")\n",
    "        for row in reader:\n",
    "            for word in row:\n",
    "                if word == 'histoGPU(int const *, int*, int, unsigned int, unsigned int)':\n",
    "                    return row[1]"
   ]
  },
  {
   "cell_type": "code",
   "execution_count": 13,
   "metadata": {},
   "outputs": [
    {
     "name": "stdout",
     "output_type": "stream",
     "text": [
      "60.672000 -> [CUDA memcpy HtoD]\n",
      "43.136000 -> rgb2hsv(unsigned char*, int, float*, float*, int*)\n",
      "24.544000 -> histogram(int*, int*, int)\n",
      "22.432000 -> repart(int*, int*, int*)\n",
      "0.608000 -> [CUDA memcpy DtoH]\n",
      "2.080000 -> [CUDA memcpy DtoD]\n",
      "17.504000 -> equalization(int*, float*, int)\n",
      "30.944000 -> hsv2rgb(unsigned char*, int, float*, float*, float*)\n",
      "58.560000 -> [CUDA memcpy DtoH]\n",
      "79.936000 -> [CUDA memcpy DtoH]\n",
      "Temps total 340.41600000000005\n"
     ]
    }
   ],
   "source": [
    "with open(\"profile\", newline=\"\") as csvfile:\n",
    "    reader = csv.reader(csvfile, delimiter=\",\")\n",
    "    i = 0\n",
    "    tempsTotal = 0 \n",
    "    for row in reader:\n",
    "        if (i >= 5):\n",
    "            tempsTotal += float(row[1])\n",
    "            print(row[1], \"->\", row[18])\n",
    "        i += 1\n",
    "    print(\"Temps total\", tempsTotal)"
   ]
  },
  {
   "cell_type": "code",
   "execution_count": 4,
   "metadata": {},
   "outputs": [
    {
     "name": "stdout",
     "output_type": "stream",
     "text": [
      "['45.664000', '45.760000', '46.464000', '47.392000', '47.232000', '50.017000', '49.728000', '52.576000', '64.000000', '120.032000', '236.128000']\n"
     ]
    }
   ],
   "source": [
    "# Les tests sont effectués avec 100 000 données et 256 de distribution\n",
    "N = [1,2,4,8,16,32,64,128,256,512,1024]\n",
    "durations = []\n",
    "for n in N:\n",
    "    os.system(\"nvprof --csv --print-gpu-trace --log-file profile ./tp3_ex1.exe -n 100000 -d 256 -N \" + str(n))\n",
    "    durations.append(findDuration())\n",
    "print(durations)"
   ]
  },
  {
   "cell_type": "code",
   "execution_count": 6,
   "metadata": {},
   "outputs": [
    {
     "data": {
      "image/png": "[encoded data removed]",
      "text/plain": [
       "<Figure size 432x288 with 1 Axes>"
      ]
     },
     "metadata": {
      "needs_background": "light"
     },
     "output_type": "display_data"
    }
   ],
   "source": [
    "plt.plot(N,durations)\n",
    "plt.show()"
   ]
  },
  {
   "cell_type": "markdown",
   "metadata": {},
   "source": [
    "On peut voir sur le graphique que la meilleure valeur obtenue soit le temps minimal et pour N = 1024\n",
    "On peut expliquer cela par le fait que l'on est obligé de limiter les accès à la mémoire avec la fonction atomicAdd pour ne pas avoir plusieurs accès en même temps et que certaines données ne soit écrasé\n",
    "Ce qui permet de limiter la synchronisation (ce qui prend le plus de temps) est de prendre la plus grande range -> 1024"
   ]
  }
 ],
 "metadata": {
  "kernelspec": {
   "display_name": "Python 3.7.11 ('base')",
   "language": "python",
   "name": "python3"
  },
  "language_info": {
   "codemirror_mode": {
    "name": "ipython",
    "version": 3
   },
   "file_extension": ".py",
   "mimetype": "text/x-python",
   "name": "python",
   "nbconvert_exporter": "python",
   "pygments_lexer": "ipython3",
   "version": "3.7.11"
  },
  "orig_nbformat": 4,
  "vscode": {
   "interpreter": {
    "hash": "3ea0c53b315a890be78cd82a804e32b2a1bcd9513ce0d5dc8121167a9679c991"
   }
  }
 },
 "nbformat": 4,
 "nbformat_minor": 2
}
