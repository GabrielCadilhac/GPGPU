{
 "cells": [
  {
   "cell_type": "code",
   "execution_count": 27,
   "metadata": {},
   "outputs": [],
   "source": [
    "import os\n",
    "import csv\n",
    "import matplotlib.pyplot as plt"
   ]
  },
  {
   "cell_type": "code",
   "execution_count": 28,
   "metadata": {},
   "outputs": [
    {
     "data": {
      "text/plain": [
       "0"
      ]
     },
     "execution_count": 28,
     "metadata": {},
     "output_type": "execute_result"
    }
   ],
   "source": []
  },
  {
   "cell_type": "code",
   "execution_count": 48,
   "metadata": {},
   "outputs": [],
   "source": [
    "def findDuration(printTrace):\n",
    "    mesure = 1\n",
    "    with open(\"profile\", newline=\"\") as csvfile:\n",
    "        reader = csv.reader(csvfile, delimiter=\",\")\n",
    "        tempsTotal = 0\n",
    "        i = 0\n",
    "        for row in reader:\n",
    "            if (i == 4):\n",
    "                if (row[1] == \"ms\"):\n",
    "                    mesure = 1000\n",
    "            if (i >= 5):\n",
    "                tempsTotal += float(row[1]) * mesure\n",
    "                if (printTrace):\n",
    "                    print(row[1], \"->\", row[18])\n",
    "            i += 1\n",
    "        return tempsTotal\n"
   ]
  },
  {
   "cell_type": "code",
   "execution_count": 60,
   "metadata": {},
   "outputs": [
    {
     "name": "stdout",
     "output_type": "stream",
     "text": [
      "62.815000 -> [CUDA memcpy HtoD]\n",
      "127.421000 -> rgb2hsv(unsigned char*, int, float*, float*, int*)\n",
      "65.727000 -> histogramShared(int*, int*, int, unsigned int)\n",
      "24.543000 -> repart(int*, int*)\n",
      "3.232000 -> [CUDA memcpy DtoD]\n",
      "46.655000 -> equalizationConstant(int*, float*, int)\n",
      "69.758000 -> hsv2rgb(unsigned char*, int, float*, float*, float*)\n",
      "61.982000 -> [CUDA memcpy DtoH]\n",
      "81.822000 -> [CUDA memcpy DtoH]\n"
     ]
    },
    {
     "data": {
      "text/plain": [
       "543.955"
      ]
     },
     "execution_count": 60,
     "metadata": {},
     "output_type": "execute_result"
    }
   ],
   "source": [
    "os.system(\"nvcc main.cu histogramGPU.cu histogramCPU.cpp utils/chronoCPU.cpp utils/chronoGPU.cu utils/image.cpp -O3 -o main\")\n",
    "os.system(\"nvprof --csv --print-gpu-trace --log-file profile ./main -N 4 -b 128\")\n",
    "findDuration(True)"
   ]
  },
  {
   "cell_type": "code",
   "execution_count": 37,
   "metadata": {},
   "outputs": [
    {
     "name": "stdout",
     "output_type": "stream",
     "text": [
      "Temps total 0\n"
     ]
    }
   ],
   "source": [
    "with open(\"profile\", newline=\"\") as csvfile:\n",
    "    reader = csv.reader(csvfile, delimiter=\",\")\n",
    "    i = 0\n",
    "    tempsTotal = 0 \n",
    "    for row in reader:\n",
    "        if (i >= 5):\n",
    "            tempsTotal += float(row[1])\n",
    "            print(row[1], \"->\", row[18])\n",
    "        i += 1\n",
    "    print(\"Temps total\", tempsTotal)"
   ]
  },
  {
   "cell_type": "code",
   "execution_count": 54,
   "metadata": {},
   "outputs": [
    {
     "name": "stdout",
     "output_type": "stream",
     "text": [
      "[551.19, 557.5550000000001, 549.6200000000001, 561.718, 572.7239999999999, 594.7410000000001, 584.37, 585.206]\n"
     ]
    },
    {
     "data": {
      "image/png": "[encoded data removed]",
      "text/plain": [
       "<Figure size 432x288 with 1 Axes>"
      ]
     },
     "metadata": {
      "needs_background": "light"
     },
     "output_type": "display_data"
    }
   ],
   "source": [
    "N = [1,2,4,8,16,32,64,128]\n",
    "durations = []\n",
    "for n in N:\n",
    "    os.system(\"nvprof --csv --print-gpu-trace --log-file profile ./main -N \" + str(n) + \" -b 128\")\n",
    "    durations.append(findDuration(False))\n",
    "print(durations)\n",
    "plt.plot(N,durations)\n",
    "plt.show()\n",
    "\n",
    "#Meilleure valeur N = 4"
   ]
  },
  {
   "cell_type": "code",
   "execution_count": 53,
   "metadata": {},
   "outputs": [
    {
     "name": "stdout",
     "output_type": "stream",
     "text": [
      "[1237.577, 770.543, 591.1550000000001, 550.837, 552.4390000000001, 572.31, 591.764]\n"
     ]
    },
    {
     "data": {
      "image/png": "[encoded data removed]",
      "text/plain": [
       "<Figure size 432x288 with 1 Axes>"
      ]
     },
     "metadata": {
      "needs_background": "light"
     },
     "output_type": "display_data"
    }
   ],
   "source": [
    "B = [16,32,64,128, 256, 512, 1024]\n",
    "durations = []\n",
    "for b in B:\n",
    "    os.system(\"nvprof --csv --print-gpu-trace --log-file profile ./main -N 4 -b \" + str(b)) # On utilise -N avec 4 car ce sont les meilleurs résultats\n",
    "    durations.append(findDuration(False))\n",
    "print(durations)\n",
    "plt.plot(B,durations)\n",
    "plt.show()\n",
    "#Meilleure valeur b = 128"
   ]
  }
 ],
 "metadata": {
  "kernelspec": {
   "display_name": "Python 3.8.10 64-bit",
   "language": "python",
   "name": "python3"
  },
  "language_info": {
   "codemirror_mode": {
    "name": "ipython",
    "version": 3
   },
   "file_extension": ".py",
   "mimetype": "text/x-python",
   "name": "python",
   "nbconvert_exporter": "python",
   "pygments_lexer": "ipython3",
   "version": "3.8.10"
  },
  "orig_nbformat": 4,
  "vscode": {
   "interpreter": {
    "hash": "916dbcbb3f70747c44a77c7bcd40155683ae19c65e1c03b4aa3499c5328201f1"
   }
  }
 },
 "nbformat": 4,
 "nbformat_minor": 2
}
